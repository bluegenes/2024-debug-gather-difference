{
 "cells": [
  {
   "cell_type": "code",
   "execution_count": 1,
   "id": "84991a64-c661-4e1b-883a-d1991da95ec8",
   "metadata": {},
   "outputs": [],
   "source": [
    "import pandas as pd\n",
    "from itertools import zip_longest"
   ]
  },
  {
   "cell_type": "code",
   "execution_count": 2,
   "id": "27537359-c0ef-45f5-a083-488118974765",
   "metadata": {},
   "outputs": [
    {
     "name": "stdout",
     "output_type": "stream",
     "text": [
      "SRR606249-minus-paraburk.x.nostoc.python.csv\n",
      "SRR606249.prefetch.csv\n",
      "SRR606249.trim.k31.x.python-gather.fmg.csv\n",
      "SRR606249.trim.k31.x.python-gather.python.csv\n",
      "SRR606249.x.chlorobium.fmg-rdb.gather.csv\n",
      "SRR606249.x.chlorobium.python.gather.csv\n",
      "SRR606249.x.combined-matches.gather.csv\n",
      "SRR606249.x.top2matches.fg.csv\n",
      "SRR606249.x.top2matches.fmg-rdb.csv\n",
      "SRR606249.x.top2matches.fmg.csv\n",
      "SRR606249.x.top2matches.python.csv\n",
      "combined-matches.csv\n",
      "srr.fg.csv\n",
      "srr.fg.full.csv\n",
      "srr.fmg-rdb.csv\n",
      "srr.fmg.csv\n",
      "srr.fmg.full.csv\n",
      "srr.x.2chlorobium.fmg.rocksdb.csv\n",
      "xxx.csv\n"
     ]
    }
   ],
   "source": [
    "ls *.csv"
   ]
  },
  {
   "cell_type": "code",
   "execution_count": 45,
   "id": "3c66134e-1a60-4f27-a8d7-93c38f17c2cf",
   "metadata": {},
   "outputs": [],
   "source": [
    "# fastmultigather/rocksdb\n",
    "fmg_df = pd.read_csv('SRR606249.x.lepto-matches.fmg-rdb.csv')\n",
    "# python gather\n",
    "pyg_df = pd.read_csv('SRR606249.x.lepto-matches.fg.csv')"
   ]
  },
  {
   "cell_type": "code",
   "execution_count": 46,
   "id": "c825ab79-9a3e-4eed-87b6-8b27479d5a06",
   "metadata": {},
   "outputs": [
    {
     "name": "stdout",
     "output_type": "stream",
     "text": [
      "10\n"
     ]
    }
   ],
   "source": [
    "print(len(fmg_df))"
   ]
  },
  {
   "cell_type": "code",
   "execution_count": 47,
   "id": "eee9e869-ed34-4937-9e86-47e3bf10a422",
   "metadata": {},
   "outputs": [
    {
     "name": "stdout",
     "output_type": "stream",
     "text": [
      "13\n"
     ]
    }
   ],
   "source": [
    "print(len(pyg_df))"
   ]
  },
  {
   "cell_type": "code",
   "execution_count": 48,
   "id": "4072759c-d331-47ca-8fde-e2ef6fe73aa1",
   "metadata": {},
   "outputs": [
    {
     "data": {
      "text/plain": [
       "Index(['query_filename', 'rank', 'query_name', 'query_md5', 'match_name',\n",
       "       'match_md5', 'intersect_bp'],\n",
       "      dtype='object')"
      ]
     },
     "execution_count": 48,
     "metadata": {},
     "output_type": "execute_result"
    }
   ],
   "source": [
    "pyg_df.columns"
   ]
  },
  {
   "cell_type": "code",
   "execution_count": 49,
   "id": "f947c46f-b4b3-41b3-9f53-e6ccdea28208",
   "metadata": {},
   "outputs": [
    {
     "data": {
      "text/html": [
       "<div>\n",
       "<style scoped>\n",
       "    .dataframe tbody tr th:only-of-type {\n",
       "        vertical-align: middle;\n",
       "    }\n",
       "\n",
       "    .dataframe tbody tr th {\n",
       "        vertical-align: top;\n",
       "    }\n",
       "\n",
       "    .dataframe thead th {\n",
       "        text-align: right;\n",
       "    }\n",
       "</style>\n",
       "<table border=\"1\" class=\"dataframe\">\n",
       "  <thead>\n",
       "    <tr style=\"text-align: right;\">\n",
       "      <th></th>\n",
       "      <th>intersect_bp</th>\n",
       "      <th>match_name</th>\n",
       "    </tr>\n",
       "  </thead>\n",
       "  <tbody>\n",
       "    <tr>\n",
       "      <th>0</th>\n",
       "      <td>9304000</td>\n",
       "      <td>GCF_000013645.1 Paraburkholderia xenovorans LB...</td>\n",
       "    </tr>\n",
       "    <tr>\n",
       "      <th>1</th>\n",
       "      <td>5063000</td>\n",
       "      <td>GCF_000016425.1 Salinispora tropica CNB-440 st...</td>\n",
       "    </tr>\n",
       "    <tr>\n",
       "      <th>2</th>\n",
       "      <td>5165000</td>\n",
       "      <td>GCF_000195675.1 Bordetella bronchiseptica RB50...</td>\n",
       "    </tr>\n",
       "    <tr>\n",
       "      <th>3</th>\n",
       "      <td>4529000</td>\n",
       "      <td>GCF_000373845.1 Salinispora arenicola CNS673 s...</td>\n",
       "    </tr>\n",
       "    <tr>\n",
       "      <th>4</th>\n",
       "      <td>4530000</td>\n",
       "      <td>GCF_000011965.2 Ruegeria pomeroyi DSS-3 strain...</td>\n",
       "    </tr>\n",
       "    <tr>\n",
       "      <th>5</th>\n",
       "      <td>5050000</td>\n",
       "      <td>GCF_000018865.1 Chloroflexus aurantiacus J-10-...</td>\n",
       "    </tr>\n",
       "    <tr>\n",
       "      <th>6</th>\n",
       "      <td>3203000</td>\n",
       "      <td>GCF_020546685.1 Deinococcus radiodurans ATCC 1...</td>\n",
       "    </tr>\n",
       "    <tr>\n",
       "      <th>7</th>\n",
       "      <td>4754000</td>\n",
       "      <td>GCF_000019785.1 Leptothrix cholodnii SP-6 stra...</td>\n",
       "    </tr>\n",
       "    <tr>\n",
       "      <th>8</th>\n",
       "      <td>4473000</td>\n",
       "      <td>GCA_011765705.1 Salinispora arenicola strain=B...</td>\n",
       "    </tr>\n",
       "    <tr>\n",
       "      <th>9</th>\n",
       "      <td>207000</td>\n",
       "      <td>GCF_002799245.1 Stenotrophomonas maltophilia s...</td>\n",
       "    </tr>\n",
       "  </tbody>\n",
       "</table>\n",
       "</div>"
      ],
      "text/plain": [
       "   intersect_bp                                         match_name\n",
       "0       9304000  GCF_000013645.1 Paraburkholderia xenovorans LB...\n",
       "1       5063000  GCF_000016425.1 Salinispora tropica CNB-440 st...\n",
       "2       5165000  GCF_000195675.1 Bordetella bronchiseptica RB50...\n",
       "3       4529000  GCF_000373845.1 Salinispora arenicola CNS673 s...\n",
       "4       4530000  GCF_000011965.2 Ruegeria pomeroyi DSS-3 strain...\n",
       "5       5050000  GCF_000018865.1 Chloroflexus aurantiacus J-10-...\n",
       "6       3203000  GCF_020546685.1 Deinococcus radiodurans ATCC 1...\n",
       "7       4754000  GCF_000019785.1 Leptothrix cholodnii SP-6 stra...\n",
       "8       4473000  GCA_011765705.1 Salinispora arenicola strain=B...\n",
       "9        207000  GCF_002799245.1 Stenotrophomonas maltophilia s..."
      ]
     },
     "execution_count": 49,
     "metadata": {},
     "output_type": "execute_result"
    }
   ],
   "source": [
    "fmg_df.loc[:, ('intersect_bp', 'match_name')]"
   ]
  },
  {
   "cell_type": "code",
   "execution_count": 50,
   "id": "1a374834-832d-46bf-be6a-84c35c8ee397",
   "metadata": {},
   "outputs": [
    {
     "data": {
      "text/plain": [
       "[[9304000,\n",
       "  'GCF_000013645.1 Paraburkholderia xenovorans LB400 strain=LB400, ASM1364v1'],\n",
       " [5159000,\n",
       "  'GCF_000195675.1 Bordetella bronchiseptica RB50 strain=RB50, ASM19567v1'],\n",
       " [5062000,\n",
       "  'GCF_000016425.1 Salinispora tropica CNB-440 strain=CNB-440, ASM1642v1']]"
      ]
     },
     "execution_count": 50,
     "metadata": {},
     "output_type": "execute_result"
    }
   ],
   "source": [
    "fmg_df_rows = [ list(tup[1]) for tup in fmg_df[['unique_intersect_bp', 'match_name']].iterrows() ]\n",
    "fmg_df_rows.sort(reverse=True)\n",
    "fmg_df_rows[:3]"
   ]
  },
  {
   "cell_type": "code",
   "execution_count": 52,
   "id": "7447f598-bd63-4988-b179-e12cba5f57fb",
   "metadata": {},
   "outputs": [
    {
     "data": {
      "text/plain": [
       "[(9304000,\n",
       "  'GCF_000013645.1 Paraburkholderia xenovorans LB400 strain=LB400, ASM1364v1'),\n",
       " (5159000,\n",
       "  'GCF_000195675.1 Bordetella bronchiseptica RB50 strain=RB50, ASM19567v1'),\n",
       " (5062000,\n",
       "  'GCF_000016425.1 Salinispora tropica CNB-440 strain=CNB-440, ASM1642v1')]"
      ]
     },
     "execution_count": 52,
     "metadata": {},
     "output_type": "execute_result"
    }
   ],
   "source": [
    "pyg_df_rows = [ list(tup[1]) for tup in pyg_df[['intersect_bp', 'match_name']].iterrows() ]\n",
    "pyg_df_rows = [ (x*1000, y) for (x, y) in pyg_df_rows ]\n",
    "pyg_df_rows.sort(reverse=True)\n",
    "pyg_df_rows[:3]"
   ]
  },
  {
   "cell_type": "code",
   "execution_count": 53,
   "id": "e9b50356-db25-48e0-b5fa-0d45d2088acc",
   "metadata": {},
   "outputs": [
    {
     "name": "stdout",
     "output_type": "stream",
     "text": [
      "fmg other\n",
      "9304000 9304000 True True GCF_000013645.1 Paraburkholderia xenovorans LB400 strain=LB400, ASM1364v1\n",
      "5159000 5159000 True True GCF_000195675.1 Bordetella bronchiseptica RB50 strain=RB50, ASM19567v1\n",
      "5062000 5062000 True True GCF_000016425.1 Salinispora tropica CNB-440 strain=CNB-440, ASM1642v1\n",
      "5050000 5050000 True True GCF_000018865.1 Chloroflexus aurantiacus J-10-fl strain=J-10-fl, ASM1886v1\n",
      "4741000 4743000 False True GCF_000019785.1 Leptothrix cholodnii SP-6 strain=SP-6, ASM1978v1\n",
      "???\t 4741000 4743000 2000\n",
      "\t GCF_000019785.1 Leptothrix cholodnii SP-6 strain=SP-6, ASM1978v1\n",
      "4529000 4529000 True True GCF_000011965.2 Ruegeria pomeroyi DSS-3 strain=DSS-3, ASM1196v2\n",
      "4258000 4260000 False True GCF_000373845.1 Salinispora arenicola CNS673 strain=CNS673, ASM37384v1\n",
      "???\t 4258000 4260000 2000\n",
      "\t GCF_000373845.1 Salinispora arenicola CNS673 strain=CNS673, ASM37384v1\n",
      "3199000 3202000 False True GCF_020546685.1 Deinococcus radiodurans ATCC 13939 strain=ATCC 13939, ASM2054668v1\n",
      "???\t 3199000 3202000 3000\n",
      "\t GCF_020546685.1 Deinococcus radiodurans ATCC 13939 strain=ATCC 13939, ASM2054668v1\n",
      "201000 419000 False False GCF_002799245.1 Stenotrophomonas maltophilia strain=EA1, ASM279924v1\n",
      "***\t GCF_002799245.1 Stenotrophomonas maltophilia strain=EA1, ASM279924v1\n",
      "\t GCA_011765705.1 Salinispora arenicola strain=BRA 172, ASM1176570v1\n",
      "170000 202000 False False GCA_011765705.1 Salinispora arenicola strain=BRA 172, ASM1176570v1\n",
      "***\t GCA_011765705.1 Salinispora arenicola strain=BRA 172, ASM1176570v1\n",
      "\t GCF_002799245.1 Stenotrophomonas maltophilia strain=EA1, ASM279924v1\n",
      "0 157000 False False XXX\n",
      "***\t XXX\n",
      "\t GCF_000375005.1 Salinispora arenicola CNS051 strain=CNS051, ASM37500v1\n",
      "0 78000 False False XXX\n",
      "***\t XXX\n",
      "\t GCF_023845025.1 Salinispora arenicola strain=RJA3005, ASM2384502v1\n",
      "0 51000 False False XXX\n",
      "***\t XXX\n",
      "\t GCF_000377605.1 Salinispora arenicola CNT859 strain=CNT859, ASM37760v1\n"
     ]
    }
   ],
   "source": [
    "print('fmg other')\n",
    "for x, y in zip_longest(fmg_df_rows, pyg_df_rows, fillvalue=(0, 'XXX', 0)):\n",
    "    val1 = round(x[0], 3)\n",
    "    val2 = round(y[0], 3)\n",
    "    print (x[0], y[0], val1 == val2, x[1] == y[1], x[1])\n",
    "    if x[1] != y[1]:\n",
    "        print('***\\t', x[1])\n",
    "        print('\\t', y[1])\n",
    "    elif val1 != val2:\n",
    "        print('???\\t', val1, val2, abs(val1-val2))\n",
    "        print('\\t', x[1])\n",
    "        #assert 0"
   ]
  },
  {
   "cell_type": "code",
   "execution_count": null,
   "id": "c0b93def-fae5-46fa-bcac-23422136567f",
   "metadata": {},
   "outputs": [],
   "source": []
  },
  {
   "cell_type": "code",
   "execution_count": null,
   "id": "e0d3f092-0d9c-4564-ad52-b5b60ecd5dd7",
   "metadata": {},
   "outputs": [],
   "source": []
  }
 ],
 "metadata": {
  "kernelspec": {
   "display_name": "Python 3 (ipykernel)",
   "language": "python",
   "name": "python3"
  },
  "language_info": {
   "codemirror_mode": {
    "name": "ipython",
    "version": 3
   },
   "file_extension": ".py",
   "mimetype": "text/x-python",
   "name": "python",
   "nbconvert_exporter": "python",
   "pygments_lexer": "ipython3",
   "version": "3.11.6"
  }
 },
 "nbformat": 4,
 "nbformat_minor": 5
}
